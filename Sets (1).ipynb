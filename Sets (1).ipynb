{
 "cells": [
  {
   "cell_type": "markdown",
   "id": "7292c00a-90d1-4684-a19c-013d5cdbee44",
   "metadata": {},
   "source": [
    "# Q1. What is a set in Python?"
   ]
  },
  {
   "cell_type": "markdown",
   "id": "9e212323-c2ad-42f1-b2bf-79a9db552602",
   "metadata": {},
   "source": [
    "## In Python, a set is an unordered collection of unique elements. It is a built-in data type that is used to store a collection of items in which each item is unique and no duplicates are allowed. Sets are mutable, meaning their elements can be added, removed, or modified. Sets are defined by enclosing a comma-separated sequence of elements inside curly braces '{}'."
   ]
  },
  {
   "cell_type": "markdown",
   "id": "5183456b-4b28-44a7-afd4-0f117c194891",
   "metadata": {},
   "source": [
    "# Q2.How do you create a set in Python?"
   ]
  },
  {
   "cell_type": "markdown",
   "id": "2716ddab-0085-43e1-a8e1-51781702cb7f",
   "metadata": {},
   "source": [
    "## In Python, we can create a set using curly braces {} or by using the set() constructor. Here are two different ways to create a set:"
   ]
  },
  {
   "cell_type": "code",
   "execution_count": 1,
   "id": "fceec090-9970-4e25-87b0-e6dbfedbb005",
   "metadata": {},
   "outputs": [
    {
     "name": "stdout",
     "output_type": "stream",
     "text": [
      "{1, 2, 3, 4, 5}\n"
     ]
    }
   ],
   "source": [
    "my_set = {1, 2, 2, 3, 3, 4, 5}\n",
    "print(my_set) "
   ]
  },
  {
   "cell_type": "code",
   "execution_count": 2,
   "id": "ce858447-f79d-4776-a990-73078279cc61",
   "metadata": {},
   "outputs": [
    {
     "name": "stdout",
     "output_type": "stream",
     "text": [
      "{1, 2, 3, 4, 5}\n"
     ]
    }
   ],
   "source": [
    "my_new_set = set([1, 2, 3, 4, 5])\n",
    "print(my_new_set)"
   ]
  },
  {
   "cell_type": "markdown",
   "id": "18daa49d-ada9-46b6-8337-25e44994e6be",
   "metadata": {},
   "source": [
    "# Q3. How do you add elements to a set in Python?"
   ]
  },
  {
   "cell_type": "markdown",
   "id": "6a872d20-8865-4012-80c1-e1bde47d7ec7",
   "metadata": {},
   "source": [
    "## In Python, we can add elements to a set using the add() method or by using the update() method. Here's how you can add elements to a set:\n",
    "## 1. Using the add() Method: The add() method is used to add a single element to a set. We can call the add() method on the set object and pass the element we want to add as an argument. For example:"
   ]
  },
  {
   "cell_type": "code",
   "execution_count": 3,
   "id": "a5e8f670-9723-4b47-b7b9-91637f800a16",
   "metadata": {},
   "outputs": [
    {
     "name": "stdout",
     "output_type": "stream",
     "text": [
      "{1, 2, 3, 4}\n"
     ]
    }
   ],
   "source": [
    "my_set = {1, 2, 3}\n",
    "my_set.add(4)\n",
    "print(my_set)\n"
   ]
  },
  {
   "cell_type": "markdown",
   "id": "a75cb0ba-17d7-4de8-8eb6-5586de361f6c",
   "metadata": {},
   "source": [
    "## Using the update() Method: The update() method is used to add multiple elements to a set. We can pass an iterable (such as a list, tuple, or another set) as an argument to the update() method, and it will add all the elements from the iterable to the set. For example:"
   ]
  },
  {
   "cell_type": "code",
   "execution_count": 4,
   "id": "c66a8f43-d924-4019-af4b-1dedcc9afd1c",
   "metadata": {},
   "outputs": [
    {
     "name": "stdout",
     "output_type": "stream",
     "text": [
      "{1, 2, 3, 4, 5, 6}\n"
     ]
    }
   ],
   "source": [
    "my_set = {1, 2, 3}\n",
    "my_set.update([4, 5, 6])\n",
    "print(my_set)  "
   ]
  },
  {
   "cell_type": "markdown",
   "id": "7e097a12-6911-4b71-bee7-afc6797c3598",
   "metadata": {},
   "source": [
    "# Q4. How do you remove elements from a set in Python?"
   ]
  },
  {
   "cell_type": "markdown",
   "id": "50329141-3318-492a-9006-9c594365362f",
   "metadata": {},
   "source": [
    "## In Python, we can remove elements from a set using various methods. Here are the commonly used methods to remove elements from a set:\n",
    "## 1. remove(): The remove() method removes a specific element from a set. We need to pass the element we want to remove as an argument to the remove() method. If the element is present in the set, it will be removed; otherwise, a KeyError will be raised. For example:"
   ]
  },
  {
   "cell_type": "code",
   "execution_count": 5,
   "id": "c23db5e1-7be3-45ae-8e36-9838e258ac00",
   "metadata": {},
   "outputs": [
    {
     "name": "stdout",
     "output_type": "stream",
     "text": [
      "{1, 3, 4}\n"
     ]
    }
   ],
   "source": [
    "my_set = {1, 2, 3, 4}\n",
    "my_set.remove(2)\n",
    "print(my_set)\n"
   ]
  },
  {
   "cell_type": "markdown",
   "id": "5632ff1b-a409-49c9-9e58-71e8001ddef9",
   "metadata": {},
   "source": [
    "## 2. discard(): The discard() method also removes a specific element from a set. However, if the element is not present in the set, it does not raise any error and simply does nothing. For example:"
   ]
  },
  {
   "cell_type": "code",
   "execution_count": 6,
   "id": "26ce7664-5d6f-4819-bfe7-5caf0af78038",
   "metadata": {},
   "outputs": [
    {
     "name": "stdout",
     "output_type": "stream",
     "text": [
      "{1, 3, 4}\n"
     ]
    }
   ],
   "source": [
    "my_set = {1, 2, 3, 4}\n",
    "my_set.discard(2)\n",
    "print(my_set)  "
   ]
  },
  {
   "cell_type": "markdown",
   "id": "c012261c-c6cd-4695-98af-1748f769a90e",
   "metadata": {},
   "source": [
    "## pop(): The pop() method removes and returns an arbitrary element from the set. Since sets are unordered collections, there's no defined order, so the element removed by pop() is not guaranteed to be a specific element. For example:"
   ]
  },
  {
   "cell_type": "code",
   "execution_count": 8,
   "id": "c2e34b08-8a05-43c4-98d1-16f5067c4a30",
   "metadata": {},
   "outputs": [
    {
     "name": "stdout",
     "output_type": "stream",
     "text": [
      "1\n",
      "{2, 3, 4}\n"
     ]
    }
   ],
   "source": [
    "my_set = {1, 2, 3, 4}\n",
    "popped_element = my_set.pop()\n",
    "print(popped_element) \n",
    "print(my_set)  "
   ]
  },
  {
   "cell_type": "markdown",
   "id": "bb501675-cf8b-49c5-ad6e-55d48f4cee1f",
   "metadata": {},
   "source": [
    "## clear(): The clear() method removes all elements from a set, making it an empty set. For example:"
   ]
  },
  {
   "cell_type": "code",
   "execution_count": 9,
   "id": "f7a93d3c-1530-40ad-9577-fb6c4f45cdcc",
   "metadata": {},
   "outputs": [
    {
     "name": "stdout",
     "output_type": "stream",
     "text": [
      "set()\n"
     ]
    }
   ],
   "source": [
    "my_set = {1, 2, 3, 4}\n",
    "my_set.clear()\n",
    "print(my_set)  "
   ]
  },
  {
   "cell_type": "markdown",
   "id": "e02f5983-c038-429e-ad6c-2c443ce857b0",
   "metadata": {},
   "source": [
    "# Q5. How do you get the length of a set in Python?"
   ]
  },
  {
   "cell_type": "code",
   "execution_count": 13,
   "id": "b070908b-974b-4501-bca2-25da7ab43a98",
   "metadata": {},
   "outputs": [
    {
     "name": "stdout",
     "output_type": "stream",
     "text": [
      "The length of the set1 is 9\n"
     ]
    }
   ],
   "source": [
    "set1 = {1,2,3,4,5,6,7,8,9}\n",
    "length = len(set1)\n",
    "print(f\"The length of the set1 is {length}\")"
   ]
  },
  {
   "cell_type": "code",
   "execution_count": null,
   "id": "079a52da-a977-447c-98b5-54dad6c52b88",
   "metadata": {},
   "outputs": [],
   "source": []
  }
 ],
 "metadata": {
  "kernelspec": {
   "display_name": "Python 3 (ipykernel)",
   "language": "python",
   "name": "python3"
  },
  "language_info": {
   "codemirror_mode": {
    "name": "ipython",
    "version": 3
   },
   "file_extension": ".py",
   "mimetype": "text/x-python",
   "name": "python",
   "nbconvert_exporter": "python",
   "pygments_lexer": "ipython3",
   "version": "3.10.8"
  }
 },
 "nbformat": 4,
 "nbformat_minor": 5
}
